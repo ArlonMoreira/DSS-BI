{
 "cells": [
  {
   "cell_type": "markdown",
   "metadata": {},
   "source": [
    "Aluno: Arlon da Silva Moreira"
   ]
  },
  {
   "cell_type": "markdown",
   "metadata": {},
   "source": [
    "# NLTK"
   ]
  },
  {
   "cell_type": "code",
   "execution_count": 3,
   "metadata": {},
   "outputs": [
    {
     "name": "stdout",
     "output_type": "stream",
     "text": [
      "0.4146857923497268\n"
     ]
    }
   ],
   "source": [
    "import pandas as pd\n",
    "import numpy as np\n",
    "from nltk.stem import WordNetLemmatizer\n",
    "from nltk.corpus import wordnet as wn\n",
    "from nltk.corpus import sentiwordnet as swn\n",
    "from nltk import sent_tokenize, word_tokenize, pos_tag\n",
    "from sklearn.metrics import accuracy_score\n",
    "from sklearn.metrics import classification_report\n",
    "\n",
    "dataset = pd.read_csv(r'Airline-Sentiment-2-w-AA.csv')\n",
    " \n",
    "conteudoTextual = np.array(dataset['text']) #Selecionado os textos em um array\n",
    "sentimentos = np.array(dataset['airline_sentiment']) #Sentimento sobre as linhas aéreas\n",
    "\n",
    "sample_docs = [100, 5817, 7626, 7356, 1008, 7155, 3533, 13010]\n",
    "sample_data = [(conteudoTextual[index],\n",
    "                sentimentos[index])\n",
    "                for index in sample_docs]\n",
    "\n",
    "lemmatizer = WordNetLemmatizer()\n",
    " \n",
    "def penn_to_wn(tag):\n",
    "\n",
    "    #Convert between the PennTreebank tags to simple Wordnet tags\n",
    "    \n",
    "    if tag.startswith('J'):\n",
    "        return wn.ADJ\n",
    "    elif tag.startswith('N'):\n",
    "        return wn.NOUN\n",
    "    elif tag.startswith('R'):\n",
    "        return wn.ADV\n",
    "    elif tag.startswith('V'):\n",
    "        return wn.VERB\n",
    "    return None\n",
    " \n",
    "def clean_text(text):\n",
    "    text = text.replace(\"<br />\", \" \")\n",
    "    #text = text.decode(\"utf-8\")\n",
    " \n",
    "    return text\n",
    " \n",
    "def swn_polarity(text):\n",
    "    \n",
    "    #Return a sentiment polarity: 0 = negative, 1 = positive  \n",
    " \n",
    "    sentiment = 0.0\n",
    "    tokens_count = 0\n",
    " \n",
    "    text = clean_text(text)\n",
    "    \n",
    "    raw_sentences = sent_tokenize(text)\n",
    "    \n",
    "    for raw_sentence in raw_sentences:\n",
    "     \n",
    "        tagged_sentence = pos_tag(word_tokenize(raw_sentence))\n",
    "        \n",
    "        for word, tag in tagged_sentence:\n",
    "            wn_tag = penn_to_wn(tag)\n",
    "            \n",
    "            if wn_tag not in (wn.NOUN, wn.ADJ, wn.ADV):\n",
    "                \n",
    "                continue\n",
    " \n",
    "            lemma = lemmatizer.lemmatize(word, pos=wn_tag)\n",
    "            \n",
    "            if not lemma:\n",
    "                continue\n",
    " \n",
    "            synsets = wn.synsets(lemma, pos=wn_tag)\n",
    "            if not synsets:\n",
    "                continue\n",
    " \n",
    "            # Take the first sense, the most common\n",
    "            synset = synsets[0]\n",
    "            swn_synset = swn.senti_synset(synset.name())\n",
    "     \n",
    "            sentiment += swn_synset.pos_score() - swn_synset.neg_score()\n",
    "            tokens_count += 1\n",
    " \n",
    "    # judgment call ? Default to positive or negative\n",
    "\n",
    "    if not tokens_count:\n",
    "        return 0\n",
    " \n",
    "    # sum greater than 0 => positive sentiment\n",
    "    if sentiment >= 0:\n",
    "        return 'positive'\n",
    " \n",
    "    # negative sentiment\n",
    "    return 'negative'\n",
    "\n",
    "pred_y = [swn_polarity(text) for text in conteudoTextual]\n",
    "print(accuracy_score(sentimentos, pred_y))"
   ]
  },
  {
   "cell_type": "code",
   "execution_count": 18,
   "metadata": {},
   "outputs": [
    {
     "name": "stdout",
     "output_type": "stream",
     "text": [
      "             precision    recall  f1-score   support\n",
      "\n",
      "   positive       0.21      0.80      0.33      2363\n",
      "   negative       0.79      0.45      0.58      9178\n",
      "\n",
      "avg / total       0.67      0.53      0.53     11541\n",
      "\n"
     ]
    }
   ],
   "source": [
    "print(classification_report(sentimentos, pred_y, labels=[\"positive\", \"negative\"]))"
   ]
  },
  {
   "cell_type": "code",
   "execution_count": 6,
   "metadata": {},
   "outputs": [
    {
     "data": {
      "text/plain": [
       "array([[1900,  355],\n",
       "       [4956, 4171]], dtype=int64)"
      ]
     },
     "execution_count": 6,
     "metadata": {},
     "output_type": "execute_result"
    }
   ],
   "source": [
    "from sklearn.metrics import confusion_matrix\n",
    "confusion_matrix(sentimentos, pred_y, labels=[\"positive\", \"negative\"])"
   ]
  },
  {
   "cell_type": "markdown",
   "metadata": {},
   "source": [
    "# LIWCSentiment"
   ]
  },
  {
   "cell_type": "code",
   "execution_count": 26,
   "metadata": {},
   "outputs": [
    {
     "name": "stdout",
     "output_type": "stream",
     "text": [
      "positive acc: 0.9991536182818451\n",
      "             precision    recall  f1-score   support\n",
      "\n",
      "   negative       0.00      0.00      0.00         0\n",
      "   positive       1.00      1.00      1.00      2363\n",
      "\n",
      "avg / total       1.00      1.00      1.00      2363\n",
      "\n"
     ]
    },
    {
     "name": "stderr",
     "output_type": "stream",
     "text": [
      "C:\\Users\\Arlon\\Anaconda3\\lib\\site-packages\\sklearn\\metrics\\classification.py:1137: UndefinedMetricWarning: Recall and F-score are ill-defined and being set to 0.0 in labels with no true samples.\n",
      "  'recall', 'true', average, warn_for)\n"
     ]
    },
    {
     "name": "stdout",
     "output_type": "stream",
     "text": [
      "negative acc: 0.01503595554587056\n",
      "             precision    recall  f1-score   support\n",
      "\n",
      "   negative       1.00      0.02      0.03      9178\n",
      "   positive       0.00      0.00      0.00         0\n",
      "\n",
      "avg / total       1.00      0.02      0.03      9178\n",
      "\n"
     ]
    }
   ],
   "source": [
    "from nltk import sent_tokenize, word_tokenize\n",
    "from sklearn.metrics import accuracy_score\n",
    "\n",
    "dataset = pd.read_csv(r'Airline-Sentiment-2-w-AA.csv')\n",
    " \n",
    "conteudoTextual = np.array(dataset['text'])\n",
    "sentimentos = np.array(dataset['airline_sentiment'])\n",
    "\n",
    "positivos = []\n",
    "negativos = []\n",
    "\n",
    "for x in range(0, sentimentos.shape[0]):\n",
    "    if sentimentos[x] == 'positive':\n",
    "        positivos.append(conteudoTextual[x])\n",
    "    elif sentimentos[x] == 'negative':\n",
    "        negativos.append(conteudoTextual[x])\n",
    "        \n",
    "db_pos = np.array(positivos)\n",
    "db_neg = np.array(negativos)\n",
    "\n",
    "liwc = pd.read_csv(r'LIWC-original.txt',header=None)\n",
    "\n",
    "palavras = np.array(liwc[0])\n",
    "sentimentos = np.array(liwc[1])\n",
    "\n",
    "pos = set()\n",
    "neg = set()\n",
    "\n",
    "for i in range(len(sentimentos)):\n",
    "    if(sentimentos[i]==1):\n",
    "        pos.add(palavras[i])\n",
    "    else:\n",
    "        neg.add(palavras[i])\n",
    "\n",
    "lemmatizer = WordNetLemmatizer()\n",
    " \n",
    "def check_pol(text):\n",
    "    \n",
    "    pol = 0.0\n",
    "\n",
    "    raw_sentences = sent_tokenize(text)\n",
    "    for raw_sentence in raw_sentences:\n",
    "        words = word_tokenize(raw_sentence)\n",
    "        \n",
    "        for word in words:\n",
    "            negation = False\n",
    "            \n",
    "            if u'não' in text:\n",
    "                negation = True\n",
    "                \n",
    "            if(word in pos):\n",
    "                pol += 1\n",
    " \n",
    "            if(word in neg):\n",
    "                pol += -1\n",
    "            \n",
    "            if negation:\n",
    "                pol = -1 * pol\n",
    "   \n",
    "    if pol >= 0:\n",
    "        return 'positive'\n",
    " \n",
    "    return 'negative'\n",
    "\n",
    "pred_y = [check_pol(text) for text in db_pos]\n",
    "\n",
    "test_sentiments = np.full(len(pred_y), 'positive')\n",
    "print('positive acc:', accuracy_score(test_sentiments, pred_y))\n",
    "print(classification_report(test_sentiments, pred_y))\n",
    "\n",
    "pred_y = [check_pol(text) for text in db_neg]\n",
    "test_sentiments = np.full(len(pred_y), 'negative')\n",
    "print('negative acc:', accuracy_score(test_sentiments, pred_y))\n",
    "print(classification_report(test_sentiments, pred_y))"
   ]
  },
  {
   "cell_type": "code",
   "execution_count": null,
   "metadata": {},
   "outputs": [],
   "source": []
  }
 ],
 "metadata": {
  "kernelspec": {
   "display_name": "Python 3",
   "language": "python",
   "name": "python3"
  },
  "language_info": {
   "codemirror_mode": {
    "name": "ipython",
    "version": 3
   },
   "file_extension": ".py",
   "mimetype": "text/x-python",
   "name": "python",
   "nbconvert_exporter": "python",
   "pygments_lexer": "ipython3",
   "version": "3.6.4"
  }
 },
 "nbformat": 4,
 "nbformat_minor": 2
}
