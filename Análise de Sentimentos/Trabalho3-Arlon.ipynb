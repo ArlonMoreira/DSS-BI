{
 "cells": [
  {
   "cell_type": "code",
   "execution_count": 4,
   "metadata": {},
   "outputs": [],
   "source": [
    "import pandas as pd\n",
    "\n",
    "import numpy as np\n",
    "\n",
    "#Leitura do dataset - 50.000 textos rotulados em positivo e negativo\n",
    "\n",
    "db_pos_ml = pd.read_csv(r'ml.pos',header=None, encoding=\"UTF-8\")\n",
    "db_neg_ml = pd.read_csv(r'ml.neg',header=None, encoding=\"UTF-8\")\n",
    "\n",
    "#db_pos_buscape = pd.read_csv('E:/Pos UFG/Disciplinas/Analise_de_Sentimentos/Trabalho3/buscape1.pos',header=None, encoding=\"ISO-8859-1\")\n",
    "\n",
    "db_pos_ml = np.array(db_pos_ml[0])\n",
    "db_neg_ml = np.array(db_neg_ml[0])\n",
    "#db_pos_buscape = np.array(db_pos_buscape[0])"
   ]
  },
  {
   "cell_type": "code",
   "execution_count": 19,
   "metadata": {},
   "outputs": [],
   "source": [
    "liwc = pd.read_csv(r'LIWC-original.txt',header=None)\n",
    "\n",
    "palavras = np.array(liwc[0])\n",
    "sentimentos = np.array(liwc[1])\n",
    "\n",
    "pos = []\n",
    "neg = []\n",
    "\n",
    "for i in range(len(sentimentos)):\n",
    "    if(sentimentos[i]==1):\n",
    "        pos.append(palavras[i])\n",
    "    else:\n",
    "        neg.append(palavras[i])\n",
    "\n",
    "\n",
    "        \n",
    "#print(len(pos))\n",
    "#print(pos)\n",
    "\n",
    "#print(len(neg))"
   ]
  },
  {
   "cell_type": "code",
   "execution_count": 20,
   "metadata": {},
   "outputs": [],
   "source": [
    "from nltk import sent_tokenize, word_tokenize, WordNetLemmatizer\n",
    " \n",
    " \n",
    "lemmatizer = WordNetLemmatizer()\n",
    " \n",
    "def check_pol(text):\n",
    "    \n",
    "    #Return a sentiment polarity: 0 = negative, 1 = positive\n",
    "\n",
    "    pol = 0.0\n",
    "\n",
    "    raw_sentences = sent_tokenize(text)\n",
    "    for raw_sentence in raw_sentences:\n",
    "        words = word_tokenize(raw_sentence)\n",
    "        \n",
    "        for word in words:\n",
    "            negation = False\n",
    "            if u'não' in text:\n",
    "                negation = True\n",
    "            if(word in pos):\n",
    "                pol += 1\n",
    "                #print('pos: ' + word)\n",
    "            if(word in neg):\n",
    "                #print('neg: ' + word)\n",
    "                pol += -1\n",
    "            if negation:\n",
    "                pol = -1 * pol\n",
    "   \n",
    "    # sum greater than 0 => positive sentiment\n",
    "    if pol >= 0:\n",
    "        #return 'positive'\n",
    "        return 1\n",
    "    # negative sentiment\n",
    "    #return 'negative'\n",
    "    return 0"
   ]
  },
  {
   "cell_type": "code",
   "execution_count": 24,
   "metadata": {},
   "outputs": [],
   "source": [
    "classificando_ml_positiva = [check_pol(text) for text in db_pos_ml]\n",
    "classificando_ml_negativa = [check_pol(text) for text in db_neg_ml]"
   ]
  },
  {
   "cell_type": "code",
   "execution_count": 47,
   "metadata": {},
   "outputs": [],
   "source": [
    "db_full_ml = np.append(db_pos_ml, db_neg_ml)\n",
    "df_full_ml = DataFrame(db_full_ml)\n",
    "classificando_ml_full = np.append(classificando_ml_positiva, classificando_ml_negativa)\n",
    "df_classificando_ml_full = DataFrame(classificando_ml_full)"
   ]
  },
  {
   "cell_type": "code",
   "execution_count": 49,
   "metadata": {},
   "outputs": [
    {
     "data": {
      "text/html": [
       "<div>\n",
       "<style scoped>\n",
       "    .dataframe tbody tr th:only-of-type {\n",
       "        vertical-align: middle;\n",
       "    }\n",
       "\n",
       "    .dataframe tbody tr th {\n",
       "        vertical-align: top;\n",
       "    }\n",
       "\n",
       "    .dataframe thead th {\n",
       "        text-align: right;\n",
       "    }\n",
       "</style>\n",
       "<table border=\"1\" class=\"dataframe\">\n",
       "  <thead>\n",
       "    <tr style=\"text-align: right;\">\n",
       "      <th></th>\n",
       "      <th>0</th>\n",
       "    </tr>\n",
       "  </thead>\n",
       "  <tbody>\n",
       "    <tr>\n",
       "      <th>0</th>\n",
       "      <td>22415</td>\n",
       "    </tr>\n",
       "    <tr>\n",
       "      <th>1</th>\n",
       "      <td>43196</td>\n",
       "    </tr>\n",
       "    <tr>\n",
       "      <th>2</th>\n",
       "      <td>23705</td>\n",
       "    </tr>\n",
       "    <tr>\n",
       "      <th>3</th>\n",
       "      <td>25387</td>\n",
       "    </tr>\n",
       "    <tr>\n",
       "      <th>4</th>\n",
       "      <td>16391</td>\n",
       "    </tr>\n",
       "  </tbody>\n",
       "</table>\n",
       "</div>"
      ],
      "text/plain": [
       "       0\n",
       "0  22415\n",
       "1  43196\n",
       "2  23705\n",
       "3  25387\n",
       "4  16391"
      ]
     },
     "execution_count": 49,
     "metadata": {},
     "output_type": "execute_result"
    }
   ],
   "source": [
    "from sklearn import preprocessing\n",
    "\n",
    "le = preprocessing.LabelEncoder()\n",
    "\n",
    "df_full_ml_2 = df_full_ml.apply(le.fit_transform)\n",
    "df_full_ml_2.head()\n",
    "\n",
    "#df_pos_buscape_2 = df_pos_buscape.apply(le.fit_transform)\n",
    "#df_buscape_2.head()"
   ]
  },
  {
   "cell_type": "code",
   "execution_count": 50,
   "metadata": {},
   "outputs": [
    {
     "data": {
      "text/plain": [
       "OneHotEncoder(categorical_features='all', dtype=<class 'numpy.float64'>,\n",
       "       handle_unknown='error', n_values='auto', sparse=True)"
      ]
     },
     "execution_count": 50,
     "metadata": {},
     "output_type": "execute_result"
    }
   ],
   "source": [
    "# etapa 2 do processo para transformar o texto(variável categórica) em variável dummy para poder utilizar o SVM\n",
    "# criando um objeto OneHotEncoder, e fazendo fit em todo df_2\n",
    "\n",
    "# 1. INSTANTIATE\n",
    "enc = preprocessing.OneHotEncoder()\n",
    "\n",
    "# 2. FIT\n",
    "enc.fit(df_full_ml_2)\n",
    "#enc.fit(df_pos_buscape_2)\n",
    "\n",
    "# 3. Transform\n",
    "#onehotlabels_ml = enc.transform(df_pos_ml_2).toarray()\n",
    "#onehotlabels_ml = enc.transform(df_pos_buscape_2).toarray()"
   ]
  },
  {
   "cell_type": "code",
   "execution_count": 51,
   "metadata": {},
   "outputs": [
    {
     "name": "stderr",
     "output_type": "stream",
     "text": [
      "C:\\Users\\Arlon\\Anaconda3\\lib\\site-packages\\sklearn\\utils\\validation.py:578: DataConversionWarning: A column-vector y was passed when a 1d array was expected. Please change the shape of y to (n_samples, ), for example using ravel().\n",
      "  y = column_or_1d(y, warn=True)\n"
     ]
    }
   ],
   "source": [
    "from sklearn import svm\n",
    "\n",
    "# Treinando o svm com kernel linear nos dados do arquivo ML.pos\n",
    "\n",
    "clf = svm.SVC(kernel='linear', C=1).fit(df_full_ml_2, df_classificando_ml_full)\n"
   ]
  },
  {
   "cell_type": "code",
   "execution_count": 52,
   "metadata": {},
   "outputs": [],
   "source": [
    "# Testando o svm com os dados do Buscape.pos\n",
    "y_pred = clf.predict(df_full_ml_2)\n",
    "#clf.score(df_pos_buscape_2, classificando_buscape)"
   ]
  },
  {
   "cell_type": "code",
   "execution_count": 68,
   "metadata": {},
   "outputs": [
    {
     "name": "stderr",
     "output_type": "stream",
     "text": [
      "C:\\Users\\Arlon\\Anaconda3\\lib\\site-packages\\sklearn\\metrics\\classification.py:1135: UndefinedMetricWarning: F-score is ill-defined and being set to 0.0 in labels with no predicted samples.\n",
      "  'precision', 'predicted', average, warn_for)\n"
     ]
    },
    {
     "data": {
      "text/plain": [
       "0.43040105193951345"
      ]
     },
     "execution_count": 68,
     "metadata": {},
     "output_type": "execute_result"
    }
   ],
   "source": [
    "from sklearn.metrics import f1_score\n",
    "#f1_score(y_true, y_pred, average='macro')\n",
    "f1_score(df_classificando_ml_full, y_pred, average='macro')"
   ]
  },
  {
   "cell_type": "code",
   "execution_count": null,
   "metadata": {},
   "outputs": [],
   "source": []
  }
 ],
 "metadata": {
  "kernelspec": {
   "display_name": "Python 3",
   "language": "python",
   "name": "python3"
  },
  "language_info": {
   "codemirror_mode": {
    "name": "ipython",
    "version": 3
   },
   "file_extension": ".py",
   "mimetype": "text/x-python",
   "name": "python",
   "nbconvert_exporter": "python",
   "pygments_lexer": "ipython3",
   "version": "3.6.4"
  }
 },
 "nbformat": 4,
 "nbformat_minor": 2
}
