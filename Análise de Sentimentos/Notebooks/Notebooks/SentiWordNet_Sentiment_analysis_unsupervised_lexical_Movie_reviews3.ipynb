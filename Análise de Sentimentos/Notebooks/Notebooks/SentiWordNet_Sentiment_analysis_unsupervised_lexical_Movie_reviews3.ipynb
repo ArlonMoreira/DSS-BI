{
 "cells": [
  {
   "cell_type": "code",
   "execution_count": 1,
   "metadata": {},
   "outputs": [
    {
     "name": "stdout",
     "output_type": "stream",
     "text": [
      "                                              review sentiment\n",
      "0  One of the other reviewers has mentioned that ...  positive\n",
      "1  A wonderful little production. <br /><br />The...  positive\n",
      "2  I thought this was a wonderful way to spend ti...  positive\n",
      "3  Basically there's a family where a little boy ...  negative\n",
      "4  Petter Mattei's \"Love in the Time of Money\" is...  positive\n"
     ]
    }
   ],
   "source": [
    "import pandas as pd\n",
    "import numpy as np\n",
    "\n",
    "#Leitura do dataset - 50.000 textos rotulados em positivo e negativo\n",
    "\n",
    "dataset = pd.read_csv(r'movie_reviews.csv')\n",
    "\n",
    "\n",
    "#Visualização dos títulos das colunas\n",
    "print(dataset.head())"
   ]
  },
  {
   "cell_type": "markdown",
   "metadata": {},
   "source": [
    "Separa em colunas"
   ]
  },
  {
   "cell_type": "code",
   "execution_count": 2,
   "metadata": {},
   "outputs": [],
   "source": [
    "test_reviews = np.array(dataset['review'])\n",
    "test_sentiments = np.array(dataset['sentiment'])"
   ]
  },
  {
   "cell_type": "markdown",
   "metadata": {},
   "source": [
    "Uma amostragem para facilitar o estudo..."
   ]
  },
  {
   "cell_type": "code",
   "execution_count": 3,
   "metadata": {},
   "outputs": [
    {
     "data": {
      "text/plain": [
       "[(\"This short film that inspired the soon-to-be full length feature - Spatula Madness - is a hilarious piece that contends against similar cartoons yielding multiple writers. The short film stars Edward the Spatula who after being fired from his job, joins in the fight against the evil spoons. This premise allows for some funny content near the beginning, but is barely present for the remainder of the feature. This film's 15-minute running time is absorbed by some odd-ball comedy and a small musical number. Unfortunately not much else lies below it. The plot that is set up doesn't really have time to show. But it's surely follows it plot better than many high-budget Hollywood films. This film is worth watching at least a few times. Take it for what it is, and don't expect a deep story.\",\n",
       "  'positive'),\n",
       " (\"Cinderella In my opinion greatest love story ever told i loved it as a kid and i love it now a wonderful Disney masterpiece this is 1 of my favorite movies i love Disney. i could rave on and on about Cinderella and Disney all day but i wont i ll give you a brief outline of the story. When a young girl's father dies she has to live with her evil step mother and her equally ugly and nasty step sisters Drusilla and Anastasia. Made to do remedial house chores all day poor Cinderella has only the little mice who scurry around the house and her dog Bruno as friends. When one day a letter is sent to her house telling all available women to attend a royal ball. Cinderellas evil step mother and step sisters try to prevent her attendance Cinderella finally gets her dream and wish and is able to attend her captive beauty , Genorisity and beautiful nature help her win her prince.\",\n",
       "  'positive'),\n",
       " ('While on vacation on Northern Australia, Gracie (Diana Glenn), her husband Adam (Andy Rodoreda) and her younger sister Lee (Maeve Dermody) decide to take the Blackwater Barry tour in the swamp for fishing. Their guide Jim (Ben Oxenbould) uses a small motor boat and takes the tourist along the river to a remote spot. When they stop, they are attacked by a huge crocodile that capsizes their boat and immediately kills Jim. The three survivors climb a tree and when they realize that help would never come to rescue them, they decide to try to find a way out of their sheltered location. However, in the muddy water, their boat is flipped and the crocodile stalks the trio under the water.<br /><br />\"Black Water\" is a tense, realistic and dramatic low-budget movie and in accordance with the warning in the beginning, based on a true event. The acting of the unknown Diana Glenn, Maeve Dermody and Andy Rodoreda is top-notch, giving credibility to this simple but scary story. There are many similarities between this movie and \"Prey\", but in different environments. My vote is seven.<br /><br />Title (Brazil): \"Medo Profundo\" (\"Deep Fear\")',\n",
       "  'positive'),\n",
       " ('This movie is supposed to take place in Milford NJ. I know the house that it is based on as well as the person. As you see at the end of themovie, she was killed in the world trade center incident. I know that, because I was one of the police officers that helped with the identification of her remains. (She was the only one in our area lost). The nudity in the movie went a bit far. I am not a prude but the actors could have filmed the scene with the two woman without actually showing the whole thing. This movie is in poor taste and I cannot see how her family would give there blessing to it. This is an insult to the person whom it is based on.',\n",
       "  'negative'),\n",
       " ('\"I like cheap perfume better; it doesn\\'t last as long...\" - Ralph Meeker\\'s convict character (Lawson) tells this to Barbara Stanwyck\\'s Helen character, after he gets a whiff of the perfume that she picked out w/her husband in Tijuana...! This line cracked me up, and also seemed like a metaphor for this film - that cheap is better than expensive, because a cheap perfume-loving man who has a way with a 2 x 4 is a better man to have around in the long run! I agree with some of the other comments posted about Helen\\'s attraction to Lawson. Even though her narration states that she wants Lawson to be put away, she did seem attracted to his fiery nature, and that passion he stirred up in her wouldn\\'t likely wash away with the tide!',\n",
       "  'positive'),\n",
       " ('Well, my goodness, am I disappointed. When I first heard news of a remake of Robert Wise\\'s 1963 film, \"The Haunting\", I had a fear that it would be ruined by an abundance of summer-movie sized visual effects. But, deep down, I had faith. Surely, with such a talented cast intact...De Bont and company will not ruin a film, who\\'s original was a fantastic and frightening movie that understood the delicate art of subtlety. Well, subtlety, where are you now!!?? My fears have manifested...a promising movie has gone wrong. Yes, Eugenio Zannetti\\'s production design is jaw-dropping; the movie is wonderfully photographed; and composer Jerry Goldsmith can never EVER do wrong. But, the script puts it\\'s fine actors to the test..asking them to deliver the kind of stilted dialogue that is only spoken in movies. In the end, the always wonderful Lili Taylor is the only performer to escape with some dignity...and that\\'s just barely. But, the crime of all crimes is that the horror is shown to us. We can no longer use our imaginations, feel that horrible dread of fear of the unknown. No, we get some visual effects to SHOW US what we\\'re supposed to be afraid of...and you know what? As wonderfully realized as they are...the visual effects come off as sort of silly. And the climax is a phantasmogoric mess...but things had gone terribly wrong long before that. <br /><br />Everything in The Haunting is overdone and overblown. I\\'m afraid there are no real thrills or creaks in this old haunted house monstrosity...only groans. Check out the original instead.<br /><br />',\n",
       "  'negative'),\n",
       " (\"Claire Denis has demonstrated repeatedly that film does not need to tell a story, that it is sufficient to create an experience that allows the viewer to take the ingredients and make of them what they will.<br /><br />Ostensibly the idea within the framework of a most non-linear film is the older man living on the French-Swiss border, a man devoted to his dogs, who still has a lover, but whose cardiac status increasingly threatens his life. He has a son with a little family who infrequently meet with him, but when he discovers he is in need of a heart transplant he opts for going to Tahiti via Japan to obtain a heart transplant on the black market and to rekindle a long lost relationship with a son he had form a Tahitian women years ago.<br /><br />What Denis does with this outline of a story is use her camera to explore the loneliness of the soul, the vastness of nature, man's interaction with people vs animals, etc. Much of the time the 'film' doesn't make sense, but that is because we try too hard to connect all the dots laid out before us in beautiful pictures. Life is sort of like that: we look, see, observe, integrate, process, and make of it what we will.<br /><br />In using this form of film making (much as she did in the strangely beautiful 'Beau Travail') Claire Denis has developed a signature technique. Whether or not the viewer finds the finished product rewarding has much to do with our individual methods of processing visual and conceptual information. This is an interesting and visually captivating film, but many viewers will find it an overly long discourse about very little. Perhaps watching again will change that. Grady Harp\",\n",
       "  'positive'),\n",
       " (\"This is the best Chinese movie I have ever seen, and, in my opinion, a lot better than Hero or Chrouching Tiger, Hidden Dragon. The movie is a unique combination of several genres: It's a beautiful love story, action movie, comedy and horror at the same time. And the most amazing thing is that it really succeeds in all of this!<br /><br />This movie definitely makes it to my top 5, and should be enjoyable to every movie lover. The action sequences do have the traditional unrealistic jumping and even flying, but the way it's shot differs from the style of Hero a lot and the flying always looks great and usually even makes sense (ghosts can fly)<br /><br />See this movie, you won't regret it. 10/10\",\n",
       "  'positive')]"
      ]
     },
     "execution_count": 3,
     "metadata": {},
     "output_type": "execute_result"
    }
   ],
   "source": [
    "sample_docs = [100, 5817, 7626, 7356, 1008, 7155, 3533, 13010]\n",
    "sample_data = [(test_reviews[index],\n",
    "                test_sentiments[index])\n",
    "                  for index in sample_docs]\n",
    "\n",
    "\n",
    "sample_data        \n",
    "\n",
    "\n",
    " "
   ]
  },
  {
   "cell_type": "code",
   "execution_count": 4,
   "metadata": {},
   "outputs": [],
   "source": [
    "from nltk.stem import WordNetLemmatizer\n",
    "from nltk.corpus import wordnet as wn\n",
    "from nltk.corpus import sentiwordnet as swn\n",
    "from nltk import sent_tokenize, word_tokenize, pos_tag\n",
    " \n",
    " \n",
    "lemmatizer = WordNetLemmatizer()\n",
    " \n",
    " \n",
    "def penn_to_wn(tag):\n",
    "\n",
    "    #Convert between the PennTreebank tags to simple Wordnet tags\n",
    "    \n",
    "    if tag.startswith('J'):\n",
    "        return wn.ADJ\n",
    "    elif tag.startswith('N'):\n",
    "        return wn.NOUN\n",
    "    elif tag.startswith('R'):\n",
    "        return wn.ADV\n",
    "    elif tag.startswith('V'):\n",
    "        return wn.VERB\n",
    "    return None\n",
    " \n",
    " \n",
    "\n",
    "def clean_text(text):\n",
    "    text = text.replace(\"<br />\", \" \")\n",
    "    #text = text.decode(\"utf-8\")\n",
    " \n",
    "    return text\n",
    " \n",
    " \n",
    "def swn_polarity(text):\n",
    "    \n",
    "    #Return a sentiment polarity: 0 = negative, 1 = positive\n",
    "    \n",
    " \n",
    "    sentiment = 0.0\n",
    "    tokens_count = 0\n",
    " \n",
    "    text = clean_text(text)\n",
    " \n",
    " \n",
    "    raw_sentences = sent_tokenize(text)\n",
    "    for raw_sentence in raw_sentences:\n",
    "        tagged_sentence = pos_tag(word_tokenize(raw_sentence))\n",
    " \n",
    "        for word, tag in tagged_sentence:\n",
    "            wn_tag = penn_to_wn(tag)\n",
    "            if wn_tag not in (wn.NOUN, wn.ADJ, wn.ADV):\n",
    "                continue\n",
    " \n",
    "            lemma = lemmatizer.lemmatize(word, pos=wn_tag)\n",
    "            if not lemma:\n",
    "                continue\n",
    " \n",
    "            synsets = wn.synsets(lemma, pos=wn_tag)\n",
    "            if not synsets:\n",
    "                continue\n",
    " \n",
    "            # Take the first sense, the most common\n",
    "            synset = synsets[0]\n",
    "            swn_synset = swn.senti_synset(synset.name())\n",
    " \n",
    "            sentiment += swn_synset.pos_score() - swn_synset.neg_score()\n",
    "            tokens_count += 1\n",
    " \n",
    "    # judgment call ? Default to positive or negative\n",
    "    if not tokens_count:\n",
    "        return 0\n",
    " \n",
    "    # sum greater than 0 => positive sentiment\n",
    "    if sentiment >= 0:\n",
    "        return 'positive'\n",
    " \n",
    "    # negative sentiment\n",
    "    return 'negative'\n"
   ]
  },
  {
   "cell_type": "code",
   "execution_count": 5,
   "metadata": {},
   "outputs": [
    {
     "name": "stdout",
     "output_type": "stream",
     "text": [
      "negative positive\n",
      "positive positive\n",
      "positive positive\n",
      "positive negative\n",
      "positive positive\n"
     ]
    }
   ],
   "source": [
    " \n",
    "print(swn_polarity(test_reviews[0]), test_sentiments[0]) #positive negative\n",
    "print(swn_polarity(test_reviews[1]), test_sentiments[1]) #positive positive\n",
    "print(swn_polarity(test_reviews[2]), test_sentiments[2]) #positive negative\n",
    "print(swn_polarity(test_reviews[3]), test_sentiments[3]) #positive positive\n",
    "print(swn_polarity(test_reviews[4]), test_sentiments[4]) #negative positive\n",
    "\n"
   ]
  },
  {
   "cell_type": "code",
   "execution_count": 6,
   "metadata": {},
   "outputs": [
    {
     "name": "stdout",
     "output_type": "stream",
     "text": [
      "0.66632\n"
     ]
    }
   ],
   "source": [
    "from sklearn.metrics import accuracy_score\n",
    "pred_y = [swn_polarity(text) for text in test_reviews]\n",
    " \n",
    "print(accuracy_score(test_sentiments, pred_y)) # 0.6689333"
   ]
  },
  {
   "cell_type": "code",
   "execution_count": 63,
   "metadata": {},
   "outputs": [
    {
     "data": {
      "text/plain": [
       "array([[5429, 2081],\n",
       "       [2885, 4605]])"
      ]
     },
     "execution_count": 63,
     "metadata": {},
     "output_type": "execute_result"
    }
   ],
   "source": [
    "from sklearn.metrics import confusion_matrix\n",
    "confusion_matrix(test_sentiments, pred_y, labels=[\"positive\", \"negative\"])"
   ]
  },
  {
   "cell_type": "code",
   "execution_count": null,
   "metadata": {},
   "outputs": [],
   "source": []
  }
 ],
 "metadata": {
  "kernelspec": {
   "display_name": "Python 3",
   "language": "python",
   "name": "python3"
  },
  "language_info": {
   "codemirror_mode": {
    "name": "ipython",
    "version": 3
   },
   "file_extension": ".py",
   "mimetype": "text/x-python",
   "name": "python",
   "nbconvert_exporter": "python",
   "pygments_lexer": "ipython3",
   "version": "3.6.3"
  }
 },
 "nbformat": 4,
 "nbformat_minor": 2
}
