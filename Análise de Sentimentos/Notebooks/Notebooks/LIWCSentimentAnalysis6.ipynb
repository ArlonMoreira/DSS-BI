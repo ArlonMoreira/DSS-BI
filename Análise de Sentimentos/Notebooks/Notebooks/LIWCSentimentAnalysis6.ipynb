{
 "cells": [
  {
   "cell_type": "markdown",
   "metadata": {},
   "source": [
    "Análise de sentimentos\n",
    "\n",
    "Sentiment analysis ( também conhecida como \"opinion mining\") refere-se ao uso de processamento de linguagem natural, análise textual e linguística computacional para identificar e extrair informação subjetivo em textos. Análise de sentimentos é amplamente utilizada em comentários em blogs e redes sociaos para uma variedade de aplicações, incluindo marketing e atendimento ao cliente.\n",
    "\n",
    "recursos Lexical paa o portugues:\n",
    "\n",
    "LIWC\n",
    "http://www.nilc.icmc.usp.br/portlex/index.php/pt/projetos/liwc\n",
    "OpLexicon\n",
    "http://ontolp.inf.pucrs.br/Recursos/downloads-OpLexicon.php\n",
    "SentiLex\n",
    "http://dmir.inesc-id.pt/project/SentiLex-PT_02\n",
    "Corpora available\n",
    "http://www.linguateca.pt/Repositorio/ReLi/\n",
    "\n",
    "Há basicamente duas formas de realizafr sentiment analysis a nível de sentença/texto.\n",
    "\n",
    "\n",
    "1)Baseado em recursos lexicos\n",
    "2)Baseado em on text categorization machine learning\n"
   ]
  },
  {
   "cell_type": "code",
   "execution_count": 1,
   "metadata": {},
   "outputs": [],
   "source": [
    "import pandas as pd\n",
    "\n",
    "import numpy as np"
   ]
  },
  {
   "cell_type": "code",
   "execution_count": 2,
   "metadata": {},
   "outputs": [],
   "source": [
    "liwc = pd.read_csv(r'LIWC-original.txt',header=None)\n",
    "\n",
    "palavras = np.array(liwc[0])\n",
    "sentimentos = np.array(liwc[1])\n"
   ]
  },
  {
   "cell_type": "code",
   "execution_count": 3,
   "metadata": {},
   "outputs": [],
   "source": [
    "#print(liwc[0])\n",
    "pos = set()\n",
    "neg = set()\n",
    "\n",
    "for i in range(len(sentimentos)):\n",
    "    if(sentimentos[i]==1):\n",
    "        pos.add(palavras[i])\n",
    "    else:\n",
    "        neg.add(palavras[i])\n"
   ]
  },
  {
   "cell_type": "code",
   "execution_count": 4,
   "metadata": {},
   "outputs": [
    {
     "name": "stdout",
     "output_type": "stream",
     "text": [
      "12876\n",
      "15112\n"
     ]
    }
   ],
   "source": [
    "print(len(pos))\n",
    "print(len(neg))\n"
   ]
  },
  {
   "cell_type": "code",
   "execution_count": 5,
   "metadata": {},
   "outputs": [
    {
     "data": {
      "text/plain": [
       "['não', 'gostei', 'muito', 'do', 'meu', 'iphone']"
      ]
     },
     "execution_count": 5,
     "metadata": {},
     "output_type": "execute_result"
    }
   ],
   "source": [
    "text = 'não gostei muito do meu iphone'\n",
    "text.split()"
   ]
  },
  {
   "cell_type": "code",
   "execution_count": 6,
   "metadata": {},
   "outputs": [],
   "source": [
    "def check_pol(text):\n",
    "    pol = 0\n",
    "    text = text.split()\n",
    "    negation = False\n",
    "    if u'não' in text:\n",
    "        negation = True\n",
    "    for token in text:\n",
    "        if(token in pos):\n",
    "            pol += 1\n",
    "            print('pos: ' + token)\n",
    "        if(token in neg):\n",
    "            print('neg: ' + token)\n",
    "            pol += -1\n",
    "    if negation:\n",
    "        pol = -1 * pol\n",
    "    return pol"
   ]
  },
  {
   "cell_type": "code",
   "execution_count": 7,
   "metadata": {},
   "outputs": [
    {
     "name": "stdout",
     "output_type": "stream",
     "text": [
      "pos: gostei\n",
      "pos: muito\n",
      "pos: lindo\n"
     ]
    },
    {
     "data": {
      "text/plain": [
       "3"
      ]
     },
     "execution_count": 7,
     "metadata": {},
     "output_type": "execute_result"
    }
   ],
   "source": [
    "text = 'Eu gostei muito deste lindo aparelho'\n",
    "check_pol(text)"
   ]
  },
  {
   "cell_type": "code",
   "execution_count": null,
   "metadata": {},
   "outputs": [],
   "source": []
  }
 ],
 "metadata": {
  "kernelspec": {
   "display_name": "Python 3",
   "language": "python",
   "name": "python3"
  },
  "language_info": {
   "codemirror_mode": {
    "name": "ipython",
    "version": 3
   },
   "file_extension": ".py",
   "mimetype": "text/x-python",
   "name": "python",
   "nbconvert_exporter": "python",
   "pygments_lexer": "ipython3",
   "version": "3.6.3"
  }
 },
 "nbformat": 4,
 "nbformat_minor": 2
}
