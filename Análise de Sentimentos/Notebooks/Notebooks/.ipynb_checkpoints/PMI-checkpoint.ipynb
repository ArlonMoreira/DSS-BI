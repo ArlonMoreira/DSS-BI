{
 "cells": [
  {
   "cell_type": "markdown",
   "metadata": {},
   "source": [
    "Função que faz consultas ao google e retorna o número de consultas realizadas em conjunto."
   ]
  },
  {
   "cell_type": "code",
   "execution_count": 7,
   "metadata": {},
   "outputs": [],
   "source": [
    "def hits(frase,palavra=\"\"):\n",
    "    from bs4 import BeautifulSoup\n",
    "    import requests\n",
    "    import re\n",
    "    from datetime import date, timedelta\n",
    "    \n",
    "    day = date.today()\n",
    "    #friday = day - timedelta(days=day.weekday() + 3) + timedelta(days=7)\n",
    "    word = frase + \" \" + palavra\n",
    "    \n",
    "    link_beg = \"https://www.google.com/search?q=%s&source=lnt&tbs=cdr%%3A1%%2Ccd_min%%3A\" % (word)\n",
    "    link_date = \"%s%%2F%s%%2F%s%%2Ccd_max%%3A%s%%2F%s%%2F%s&tbm=&gws_rd=ssl\" % (str(day.month),str(day.day),str(day.year),str(day.month),str(day.day),str(day.year))\n",
    "    url = link_beg + link_date\n",
    "    print(url+\"'\")\n",
    "    print(\"\\t\")\n",
    "    r = requests.get(url)\n",
    "    \n",
    "    soup = BeautifulSoup(r.content)\n",
    "    products = soup.findAll(\"div\", id = \"resultStats\")\n",
    "    result = str(products[0])\n",
    "    results = re.findall(r'\\d+', result)\n",
    "    \n",
    "    number = ''.join([str(i) for i in results])\n",
    "    return(number)\n"
   ]
  },
  {
   "cell_type": "markdown",
   "metadata": {},
   "source": [
    "Função que calcula a orientação semantica com base no calculo do Pointwise Mutual Information (PMI)."
   ]
  },
  {
   "cell_type": "code",
   "execution_count": 3,
   "metadata": {},
   "outputs": [],
   "source": [
    "def so(phrase):\n",
    "    num = int(hits(phrase,\"excellent\"))\n",
    "    #print num\n",
    "    den = int(hits(phrase,\"poor\"))\n",
    "    #print den\n",
    "    ratio = num / den\n",
    "    #print ratio\n",
    "    sop = log(ratio)\n",
    "    return sop"
   ]
  },
  {
   "cell_type": "markdown",
   "metadata": {},
   "source": [
    "Função que retorna os substantivos da frase"
   ]
  },
  {
   "cell_type": "code",
   "execution_count": 4,
   "metadata": {},
   "outputs": [],
   "source": [
    "def text_pos(raw):\n",
    "    global list,newlist,newlist1,ct\n",
    "    print(\"raw input:\",raw)\n",
    "    spl=raw.split()\n",
    "    print(\"\\n\")\n",
    "    print(\"split version of input:\",spl)\n",
    "    pos=nltk.pos_tag(spl)\n",
    "    nouns = []\n",
    "    list1 = [\"NN\",\"MNS\",\"MNP\", \"NNPS\"] #NN:Noun, singular; NNS:Noun, plural; NNP:Proper noun, singular; NNPS:Proper noun, plural\n",
    "    for iter in pos:\n",
    "        v1,v2  = iter\n",
    "        #print(iter,\"\")\n",
    "        if(v2 in list1):\n",
    "            nouns.append(v1)\n",
    "    return nouns"
   ]
  },
  {
   "cell_type": "markdown",
   "metadata": {},
   "source": [
    "Testando o método PMI. Se valor negativo, a probabilidade da frase ser negativa é maior."
   ]
  },
  {
   "cell_type": "code",
   "execution_count": 8,
   "metadata": {},
   "outputs": [
    {
     "name": "stdout",
     "output_type": "stream",
     "text": [
      "PMI - Pointwise Mutual Information\n",
      "\n",
      "\n",
      "raw input: Nokia is a amazing phone\n",
      "\n",
      "\n",
      "split version of input: ['Nokia', 'is', 'a', 'amazing', 'phone']\n",
      "['phone']\n",
      "https://www.google.com/search?q=Nokia is a amazing phone excellent&source=lnt&tbs=cdr%3A1%2Ccd_min%3A3%2F1%2F2018%2Ccd_max%3A3%2F1%2F2018&tbm=&gws_rd=ssl'\n",
      "\t\n"
     ]
    },
    {
     "name": "stderr",
     "output_type": "stream",
     "text": [
      "/Users/nadia/anaconda3/lib/python3.6/site-packages/bs4/__init__.py:181: UserWarning: No parser was explicitly specified, so I'm using the best available HTML parser for this system (\"lxml\"). This usually isn't a problem, but if you run this code on another system, or in a different virtual environment, it may use a different parser and behave differently.\n",
      "\n",
      "The code that caused this warning is on line 193 of the file /Users/nadia/anaconda3/lib/python3.6/runpy.py. To get rid of this warning, change code that looks like this:\n",
      "\n",
      " BeautifulSoup(YOUR_MARKUP})\n",
      "\n",
      "to this:\n",
      "\n",
      " BeautifulSoup(YOUR_MARKUP, \"lxml\")\n",
      "\n",
      "  markup_type=markup_type))\n"
     ]
    },
    {
     "name": "stdout",
     "output_type": "stream",
     "text": [
      "https://www.google.com/search?q=Nokia is a amazing phone poor&source=lnt&tbs=cdr%3A1%2Ccd_min%3A3%2F1%2F2018%2Ccd_max%3A3%2F1%2F2018&tbm=&gws_rd=ssl'\n",
      "\t\n",
      "-1.3365993014041404\n"
     ]
    }
   ],
   "source": [
    "print(\"PMI - Pointwise Mutual Information\")\n",
    "print(\"\\n\")\n",
    "strr = text_pos(\"Nokia is a amazing phone\")\n",
    "print(strr)\n",
    "x = so(\"Nokia is a amazing phone\")\n",
    "#x = hits(strr)\n",
    "print(x)\n"
   ]
  },
  {
   "cell_type": "code",
   "execution_count": null,
   "metadata": {},
   "outputs": [],
   "source": []
  }
 ],
 "metadata": {
  "kernelspec": {
   "display_name": "Python 3",
   "language": "python",
   "name": "python3"
  },
  "language_info": {
   "codemirror_mode": {
    "name": "ipython",
    "version": 3
   },
   "file_extension": ".py",
   "mimetype": "text/x-python",
   "name": "python",
   "nbconvert_exporter": "python",
   "pygments_lexer": "ipython3",
   "version": "3.6.3"
  }
 },
 "nbformat": 4,
 "nbformat_minor": 2
}
