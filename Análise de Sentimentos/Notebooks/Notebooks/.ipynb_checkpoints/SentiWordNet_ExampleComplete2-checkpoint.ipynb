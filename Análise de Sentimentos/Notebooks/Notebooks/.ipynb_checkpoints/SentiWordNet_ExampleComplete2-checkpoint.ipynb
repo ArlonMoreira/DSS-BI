{
 "cells": [
  {
   "cell_type": "code",
   "execution_count": 1,
   "metadata": {},
   "outputs": [],
   "source": [
    "import nltk\n",
    "from nltk.corpus import sentiwordnet as swn"
   ]
  },
  {
   "cell_type": "markdown",
   "metadata": {},
   "source": [
    "Leia um documento"
   ]
  },
  {
   "cell_type": "code",
   "execution_count": 4,
   "metadata": {},
   "outputs": [],
   "source": [
    "\n",
    "doc=\"Nice and friendly place with excellent food and friendly and helpful staff. You need a car though. The children wants to go back! Playground and animals entertained them and they felt like at home. I also recommend the dinner! Great value for the price!\"\n"
   ]
  },
  {
   "cell_type": "markdown",
   "metadata": {},
   "source": [
    "Primeiramente vamos quebrar o texto em sentenças."
   ]
  },
  {
   "cell_type": "code",
   "execution_count": 7,
   "metadata": {},
   "outputs": [
    {
     "name": "stdout",
     "output_type": "stream",
     "text": [
      "['Nice and friendly place with excellent food and friendly and helpful staff.', 'You need a car though.', 'The children wants to go back!', 'Playground and animals entertained them and they felt like at home.', 'I also recommend the dinner!', 'Great value for the price!']\n"
     ]
    }
   ],
   "source": [
    "sentences = nltk.sent_tokenize(doc)\n",
    "print(sentences)\n"
   ]
  },
  {
   "cell_type": "markdown",
   "metadata": {},
   "source": [
    "Quebramos as sentenças em palavras."
   ]
  },
  {
   "cell_type": "code",
   "execution_count": 10,
   "metadata": {},
   "outputs": [
    {
     "name": "stdout",
     "output_type": "stream",
     "text": [
      "[['Nice', 'and', 'friendly', 'place', 'with', 'excellent', 'food', 'and', 'friendly', 'and', 'helpful', 'staff', '.'], ['You', 'need', 'a', 'car', 'though', '.'], ['The', 'children', 'wants', 'to', 'go', 'back', '!'], ['Playground', 'and', 'animals', 'entertained', 'them', 'and', 'they', 'felt', 'like', 'at', 'home', '.'], ['I', 'also', 'recommend', 'the', 'dinner', '!'], ['Great', 'value', 'for', 'the', 'price', '!']]\n"
     ]
    }
   ],
   "source": [
    "stokens = [nltk.word_tokenize(sent) for sent in sentences]\n",
    "print(stokens)"
   ]
  },
  {
   "cell_type": "markdown",
   "metadata": {},
   "source": [
    "Aplicando um part-of-speach (PoS ou POS) ou part-of-speech tagging, POS-tagging, ou simplesmente tagging: Fornece as Classes de palavras \n",
    "\n",
    "Possíveis classes: \n",
    "\n",
    "CC:coordinating conjunction\n",
    "\n",
    "CD:cardinal digit\n",
    "\n",
    "DT:determiner\n",
    "\n",
    "EX:existential there (like: \"there is\" ... think of it like \"there exists\")\n",
    "\n",
    "FW:foreign word\n",
    "\n",
    "IN:preposition/subordinating conjunction\n",
    "\n",
    "JJ:adjective - example 'big'\n",
    "\n",
    "JJR:adjective, example comparative-'bigger'\n",
    "\n",
    "JJS:adjective, example superlative-'biggest'\n",
    "\n",
    "LS:list marker: example 1)\n",
    "\n",
    "MD:modal exemaple: could, will\n",
    "\n",
    "NN: noun, singular 'desk'\n",
    "\n",
    "NNS: noun plural 'desks'\n",
    "\n",
    "NNP:proper noun, singular:'Harrison'\n",
    "\n",
    "NNPS:proper noun, plural:'Americans'\n",
    "\n",
    "PDT:predeterminer - 'all the kids'\n",
    "\n",
    "POS:possessive ending - parent's\n",
    "\n",
    "PRP:personal pronoun - I, he, she\n",
    "\n",
    "PRP$: possessive pronoun - my, his, hers\n",
    "\n",
    "RB:adverb - very, silently,\n",
    "\n",
    "RBR: adverb, Example comparative:better\n",
    "\n",
    "RBS:adverb, example superlative:best\n",
    "\n",
    "RP: particle example: give up\n",
    "\n",
    "TO: to go  example to the store.\n",
    "\n",
    "UH: interjection -  example: errrrrrrrm\n",
    "\n",
    "VB: verb, base - example: form take\n",
    "\n",
    "VBD: verb, past tense -  example: took\n",
    "\n",
    "VBG:verb, gerund/present participle - example: taking\n",
    "\n",
    "VBN: verb, past participle, example: taken\n",
    "\n",
    "VBP: verb, sing. present, non-3d - example: take\n",
    "\n",
    "VBZ: verb, 3rd person sing. present - example takes\n",
    "\n",
    "WDT: wh-determiner - example which\n",
    "\n",
    "WP: wh-pronoun, example: who, what\n",
    "\n",
    "WP$: possessive wh-pronoun, example: whose\n",
    "\n",
    "WRB: wh-abverb - example: where, when\n"
   ]
  },
  {
   "cell_type": "code",
   "execution_count": 14,
   "metadata": {},
   "outputs": [
    {
     "name": "stdout",
     "output_type": "stream",
     "text": [
      "[[('Nice', 'NNP'), ('and', 'CC'), ('friendly', 'JJ'), ('place', 'NN'), ('with', 'IN'), ('excellent', 'JJ'), ('food', 'NN'), ('and', 'CC'), ('friendly', 'JJ'), ('and', 'CC'), ('helpful', 'JJ'), ('staff', 'NN'), ('.', '.')], [('You', 'PRP'), ('need', 'VBP'), ('a', 'DT'), ('car', 'NN'), ('though', 'NN'), ('.', '.')], [('The', 'DT'), ('children', 'NNS'), ('wants', 'VBZ'), ('to', 'TO'), ('go', 'VB'), ('back', 'RB'), ('!', '.')], [('Playground', 'NN'), ('and', 'CC'), ('animals', 'NNS'), ('entertained', 'VBD'), ('them', 'PRP'), ('and', 'CC'), ('they', 'PRP'), ('felt', 'VBD'), ('like', 'IN'), ('at', 'IN'), ('home', 'NN'), ('.', '.')], [('I', 'PRP'), ('also', 'RB'), ('recommend', 'VBP'), ('the', 'DT'), ('dinner', 'NN'), ('!', '.')], [('Great', 'NNP'), ('value', 'NN'), ('for', 'IN'), ('the', 'DT'), ('price', 'NN'), ('!', '.')]]\n"
     ]
    }
   ],
   "source": [
    "taggedlist=[]\n",
    "for stoken in stokens:        \n",
    "     taggedlist.append(nltk.pos_tag(stoken))\n",
    "print(taggedlist)"
   ]
  },
  {
   "cell_type": "markdown",
   "metadata": {},
   "source": [
    "A principal diferença entre o Stemming e o Lematizador é que o Stemming pode gerar palavras geralmente inexistentes, enquanto as lemas são palavras reais.\n",
    "\n",
    "Exemplo: \n",
    "\n",
    "Palavra |        Lema      |    Stem\n",
    "\n",
    "Agree   |       Agree      |   Agre\n",
    "\n",
    "Separated   |   Separate    |  Separ\n",
    "\n",
    "Andando     |   Anda       |   And\n",
    "\n",
    "\n",
    "\n"
   ]
  },
  {
   "cell_type": "code",
   "execution_count": 17,
   "metadata": {},
   "outputs": [
    {
     "name": "stdout",
     "output_type": "stream",
     "text": [
      "[SentiSynset('nice.n.01')]\n",
      "[SentiSynset('friendly.a.01'), SentiSynset('friendly.s.02'), SentiSynset('friendly.a.03'), SentiSynset('friendly.a.04')]\n",
      "[SentiSynset('topographic_point.n.01'), SentiSynset('place.n.02'), SentiSynset('place.n.03'), SentiSynset('place.n.04'), SentiSynset('stead.n.01'), SentiSynset('place.n.06'), SentiSynset('home.n.01'), SentiSynset('position.n.06'), SentiSynset('position.n.01'), SentiSynset('place.n.10'), SentiSynset('seat.n.01'), SentiSynset('place.n.12'), SentiSynset('place.n.13'), SentiSynset('plaza.n.01'), SentiSynset('place.n.15'), SentiSynset('space.n.07')]\n",
      "[SentiSynset('excellent.s.01')]\n",
      "[SentiSynset('food.n.01'), SentiSynset('food.n.02'), SentiSynset('food.n.03')]\n",
      "[SentiSynset('friendly.a.01'), SentiSynset('friendly.s.02'), SentiSynset('friendly.a.03'), SentiSynset('friendly.a.04')]\n",
      "[SentiSynset('helpful.a.01')]\n",
      "[SentiSynset('staff.n.01'), SentiSynset('staff.n.02'), SentiSynset('staff.n.03'), SentiSynset('staff.n.04'), SentiSynset('staff.n.05'), SentiSynset('staff.n.06')]\n",
      "[SentiSynset('necessitate.v.01'), SentiSynset('want.v.02'), SentiSynset('need.v.03')]\n",
      "[SentiSynset('car.n.01'), SentiSynset('car.n.02'), SentiSynset('car.n.03'), SentiSynset('car.n.04'), SentiSynset('cable_car.n.01')]\n",
      "[]\n",
      "[SentiSynset('child.n.01'), SentiSynset('child.n.02'), SentiSynset('child.n.03'), SentiSynset('child.n.04')]\n",
      "[SentiSynset('desire.v.01'), SentiSynset('want.v.02'), SentiSynset('want.v.03'), SentiSynset('want.v.04'), SentiSynset('want.v.05')]\n",
      "[SentiSynset('travel.v.01'), SentiSynset('go.v.02'), SentiSynset('go.v.03'), SentiSynset('become.v.01'), SentiSynset('go.v.05'), SentiSynset('run.v.05'), SentiSynset('run.v.03'), SentiSynset('proceed.v.04'), SentiSynset('go.v.09'), SentiSynset('go.v.10'), SentiSynset('sound.v.02'), SentiSynset('function.v.01'), SentiSynset('run_low.v.01'), SentiSynset('move.v.13'), SentiSynset('survive.v.01'), SentiSynset('go.v.16'), SentiSynset('die.v.01'), SentiSynset('belong.v.03'), SentiSynset('go.v.19'), SentiSynset('start.v.09'), SentiSynset('move.v.15'), SentiSynset('go.v.22'), SentiSynset('go.v.23'), SentiSynset('blend.v.02'), SentiSynset('go.v.25'), SentiSynset('fit.v.02'), SentiSynset('rifle.v.02'), SentiSynset('go.v.28'), SentiSynset('plump.v.04'), SentiSynset('fail.v.04')]\n",
      "[SentiSynset('back.r.01'), SentiSynset('back.r.02'), SentiSynset('back.r.03'), SentiSynset('back.r.04'), SentiSynset('back.r.05'), SentiSynset('back.r.06')]\n",
      "[SentiSynset('resort_area.n.01'), SentiSynset('playground.n.02')]\n",
      "[SentiSynset('animal.n.01')]\n",
      "[SentiSynset('entertain.v.01'), SentiSynset('entertain.v.02'), SentiSynset('harbor.v.01')]\n",
      "[SentiSynset('felt.v.01'), SentiSynset('felt.v.02'), SentiSynset('felt.v.03'), SentiSynset('feel.v.01'), SentiSynset('find.v.05'), SentiSynset('feel.v.03'), SentiSynset('feel.v.04'), SentiSynset('feel.v.05'), SentiSynset('feel.v.06'), SentiSynset('feel.v.07'), SentiSynset('feel.v.08'), SentiSynset('feel.v.09'), SentiSynset('palpate.v.01'), SentiSynset('feel.v.11'), SentiSynset('feel.v.12'), SentiSynset('feel.v.13')]\n",
      "[SentiSynset('home.n.01'), SentiSynset('dwelling.n.01'), SentiSynset('home.n.03'), SentiSynset('home_plate.n.01'), SentiSynset('base.n.14'), SentiSynset('home.n.06'), SentiSynset('home.n.07'), SentiSynset('family.n.01'), SentiSynset('home.n.09')]\n",
      "[SentiSynset('besides.r.02')]\n",
      "[SentiSynset('recommend.v.01'), SentiSynset('commend.v.04'), SentiSynset('recommend.v.03')]\n",
      "[SentiSynset('dinner.n.01'), SentiSynset('dinner.n.02')]\n",
      "[SentiSynset('great.n.01')]\n",
      "[SentiSynset('value.n.01'), SentiSynset('value.n.02'), SentiSynset('value.n.03'), SentiSynset('value.n.04'), SentiSynset('value.n.05'), SentiSynset('value.n.06')]\n",
      "[SentiSynset('monetary_value.n.01'), SentiSynset('price.n.02'), SentiSynset('price.n.03'), SentiSynset('price.n.04'), SentiSynset('price.n.05'), SentiSynset('price.n.06'), SentiSynset('price.n.07')]\n",
      "[[0.0, 0.1875, 0.0, 1.0, -0.041666666666666664, 0.1875, 0.25, 0.0], [-0.08333333333333333, 0.0], [0.03125, -0.075, 0.0125, 0.0], [0.0, -0.375, 0.08333333333333333, 0.015625, 0.027777777777777776], [0.0, 0.25, 0.0], [0.0, 0.10416666666666667, 0.08928571428571429]]\n"
     ]
    }
   ],
   "source": [
    "wnl = nltk.WordNetLemmatizer() \n",
    "\n",
    "score_list=[]\n",
    "for idx,taggedsent in enumerate(taggedlist):\n",
    "    score_list.append([])\n",
    "    for idx2,t in enumerate(taggedsent):\n",
    "        newtag=''\n",
    "        lemmatized=wnl.lemmatize(t[0])\n",
    "        if t[1].startswith('NN'):\n",
    "            newtag='n'\n",
    "        elif t[1].startswith('JJ'):\n",
    "            newtag='a'\n",
    "        elif t[1].startswith('V'):\n",
    "            newtag='v'\n",
    "        elif t[1].startswith('R'):\n",
    "            newtag='r'\n",
    "        else:\n",
    "            newtag=''       \n",
    "        if(newtag!=''):    \n",
    "            synsets = list(swn.senti_synsets(lemmatized, newtag))\n",
    "            #Getting average of all possible sentiments, as you requested        \n",
    "            score=0\n",
    "            if(len(synsets)>0):\n",
    "                for syn in synsets:\n",
    "                    score+=syn.pos_score()-syn.neg_score()\n",
    "                score_list[idx].append(score/len(synsets))\n",
    "            \n",
    "print(score_list)"
   ]
  },
  {
   "cell_type": "code",
   "execution_count": 16,
   "metadata": {},
   "outputs": [
    {
     "name": "stdout",
     "output_type": "stream",
     "text": [
      "Sentiment for each sentence for:Nice and friendly place with excellent food and friendly and helpful staff. You need a car though. The children wants to go back! Playground and animals entertained them and they felt like at home. I also recommend the dinner! Great value for the price!\n",
      "[0.19791666666666666, -0.041666666666666664, -0.007812499999999999, -0.04965277777777778, 0.08333333333333333, 0.06448412698412699]\n"
     ]
    }
   ],
   "source": [
    "sentence_sentiment=[]\n",
    "\n",
    "for score_sent in score_list:\n",
    "    sentence_sentiment.append(sum([word_score for word_score in score_sent])/len(score_sent))\n",
    "print(\"Sentiment for each sentence for:\"+doc)\n",
    "print(sentence_sentiment)"
   ]
  },
  {
   "cell_type": "code",
   "execution_count": null,
   "metadata": {},
   "outputs": [],
   "source": []
  }
 ],
 "metadata": {
  "kernelspec": {
   "display_name": "Python 3",
   "language": "python",
   "name": "python3"
  },
  "language_info": {
   "codemirror_mode": {
    "name": "ipython",
    "version": 3
   },
   "file_extension": ".py",
   "mimetype": "text/x-python",
   "name": "python",
   "nbconvert_exporter": "python",
   "pygments_lexer": "ipython3",
   "version": "3.6.3"
  }
 },
 "nbformat": 4,
 "nbformat_minor": 2
}
