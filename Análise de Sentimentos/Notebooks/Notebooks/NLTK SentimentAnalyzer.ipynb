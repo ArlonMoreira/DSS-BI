{
 "cells": [
  {
   "cell_type": "code",
   "execution_count": 6,
   "metadata": {},
   "outputs": [],
   "source": [
    "from unidecode import unidecode\n",
    "from nltk import word_tokenize\n",
    "from nltk.sentiment import SentimentAnalyzer\n",
    "from nltk.sentiment.util import extract_unigram_feats, mark_negation\n",
    " "
   ]
  },
  {
   "cell_type": "code",
   "execution_count": 5,
   "metadata": {},
   "outputs": [
    {
     "name": "stdout",
     "output_type": "stream",
     "text": [
      "['I', 'like', 'the', 'movie', '.']\n",
      "['I', \"don't\", 'like_NEG', 'the_NEG', 'movie_NEG', '.']\n"
     ]
    }
   ],
   "source": [
    "# mark_negation appends a \"_NEG\" to words after a negation untill a punctuation mark.\n",
    "# this means that the same after a negation will be handled differently \n",
    "# than the word that's not after a negation by the classifier\n",
    "print(mark_negation(\"I like the movie .\".split()))       # ['I', 'like', 'the', 'movie.']\n",
    "print(mark_negation(\"I don't like the movie .\".split()))  # ['I', \"don't\", 'like_NEG', 'the_NEG', 'movie._NEG']"
   ]
  },
  {
   "cell_type": "code",
   "execution_count": null,
   "metadata": {},
   "outputs": [],
   "source": []
  }
 ],
 "metadata": {
  "kernelspec": {
   "display_name": "Python 3",
   "language": "python",
   "name": "python3"
  },
  "language_info": {
   "codemirror_mode": {
    "name": "ipython",
    "version": 3
   },
   "file_extension": ".py",
   "mimetype": "text/x-python",
   "name": "python",
   "nbconvert_exporter": "python",
   "pygments_lexer": "ipython3",
   "version": "3.6.3"
  }
 },
 "nbformat": 4,
 "nbformat_minor": 2
}
